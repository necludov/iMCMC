{
 "cells": [
  {
   "cell_type": "code",
   "execution_count": 1,
   "metadata": {},
   "outputs": [
    {
     "name": "stdout",
     "output_type": "stream",
     "text": [
      "Populating the interactive namespace from numpy and matplotlib\n"
     ]
    }
   ],
   "source": [
    "%pylab inline"
   ]
  },
  {
   "cell_type": "code",
   "execution_count": 2,
   "metadata": {},
   "outputs": [],
   "source": [
    "import torch\n",
    "import torch.nn as nn\n",
    "import pandas as pd\n",
    "from time import time\n",
    "\n",
    "from matplotlib import gridspec\n",
    "from mpl_toolkits.axes_grid1 import ImageGrid\n",
    "\n",
    "import sys\n",
    "sys.path.append('../')\n",
    "from core import distributions, metrics, kernels"
   ]
  },
  {
   "cell_type": "code",
   "execution_count": 3,
   "metadata": {},
   "outputs": [],
   "source": [
    "def eval_kernel(kernel, init_state, dim, T, batch_size, burn_in):\n",
    "    samples = np.zeros([batch_size,T,dim])\n",
    "    AR = 0.0\n",
    "    state = init_state\n",
    "    start_time = time()\n",
    "    for t in range(T):\n",
    "        state, accepted_mask = kernel(state)\n",
    "        AR += torch.sum(accepted_mask).float()/batch_size/T\n",
    "        samples[:,t,:] = state['x'].cpu().numpy()\n",
    "    run_time = time()-start_time\n",
    "    samples = samples[:,burn_in:,:]\n",
    "    ess = metrics.batch_means_ess(samples)\n",
    "    print('AR:', AR.cpu().numpy())\n",
    "    print('time:', run_time)\n",
    "    print('mean ess:', np.mean(np.min(ess, axis=1), axis=0))\n",
    "    print('std ess:', np.std(np.min(ess, axis=1), axis=0))\n",
    "    print('mean ess/s:', np.mean(np.min(ess/run_time, axis=1), axis=0))\n",
    "    print('std ess/s:', np.std(np.min(ess/run_time, axis=1), axis=0))\n",
    "    return AR, ess, run_time"
   ]
  },
  {
   "cell_type": "markdown",
   "metadata": {},
   "source": [
    "## MogTwo"
   ]
  },
  {
   "cell_type": "code",
   "execution_count": 4,
   "metadata": {},
   "outputs": [],
   "source": [
    "device = torch.device('cuda')\n",
    "target = distributions.MOGTwo(device)\n",
    "dim = target.mean().shape[0]"
   ]
  },
  {
   "cell_type": "code",
   "execution_count": 5,
   "metadata": {
    "scrolled": false
   },
   "outputs": [
    {
     "name": "stdout",
     "output_type": "stream",
     "text": [
      "AR: 0.29265884\n",
      "time: 123.88203167915344\n",
      "mean ess: 0.026629105146505617\n",
      "std ess: 0.007602860435063467\n",
      "mean ess/s: 0.00021495534732166252\n",
      "std ess/s: 6.13717771012538e-05\n"
     ]
    }
   ],
   "source": [
    "batch_size=100\n",
    "T = 20000\n",
    "x = (torch.zeros([batch_size,dim])).to(device)\n",
    "d = torch.ones([batch_size,1]).to(device)\n",
    "init_state_irr = {'x': x, 'd': d}\n",
    "eps = 1.2\n",
    "kernel_irr = kernels.irrMALA(target, dim, step_size=eps, sigma=np.sqrt(2.0*eps), device=device)\n",
    "AR_irr, ess_irr, time_irr = eval_kernel(kernel_irr, init_state_irr, dim, \n",
    "                                        T=T, batch_size=batch_size, burn_in=T//20)"
   ]
  },
  {
   "cell_type": "code",
   "execution_count": 6,
   "metadata": {},
   "outputs": [
    {
     "name": "stdout",
     "output_type": "stream",
     "text": [
      "AR: 0.25305277\n",
      "time: 92.13073062896729\n",
      "mean ess: 0.006902460617468302\n",
      "std ess: 0.0018689924722145325\n",
      "mean ess/s: 7.492028523323213e-05\n",
      "std ess/s: 2.0286309024742422e-05\n"
     ]
    }
   ],
   "source": [
    "batch_size=100\n",
    "T = 20000\n",
    "x = (torch.zeros([batch_size,dim])).to(device)\n",
    "d = torch.ones([batch_size,1]).to(device)\n",
    "init_state_rw = {'x': x, 'd': d}\n",
    "eps=1.1\n",
    "kernel_rw = kernels.rwMALA(target, dim, step_size=eps, sigma=np.sqrt(2.0*eps), device=device)\n",
    "AR_rw, ess_rw, time_rw = eval_kernel(kernel_rw, init_state_rw, dim, \n",
    "                                     T=T, batch_size=batch_size, burn_in=T//20)"
   ]
  },
  {
   "cell_type": "markdown",
   "metadata": {},
   "source": [
    "## Heart"
   ]
  },
  {
   "cell_type": "code",
   "execution_count": 4,
   "metadata": {},
   "outputs": [],
   "source": [
    "device = torch.device('cuda')\n",
    "target = distributions.Heart(device)\n",
    "dim = target.mean().shape[0]"
   ]
  },
  {
   "cell_type": "code",
   "execution_count": 19,
   "metadata": {
    "scrolled": false
   },
   "outputs": [
    {
     "name": "stdout",
     "output_type": "stream",
     "text": [
      "AR: 0.33483467\n",
      "time: 246.5564935207367\n",
      "mean ess: 0.011639801443606672\n",
      "std ess: 0.0014356228615663592\n",
      "mean ess/s: 4.720947024105738e-05\n",
      "std ess/s: 5.822693375729793e-06\n"
     ]
    }
   ],
   "source": [
    "batch_size=100\n",
    "T = 20000\n",
    "x = (torch.zeros([batch_size,dim])).to(device)\n",
    "d = torch.ones([batch_size,1]).to(device)\n",
    "init_state_irr = {'x': x, 'd': d}\n",
    "eps = 0.003\n",
    "kernel_irr = kernels.irrMALA(target, dim, step_size=eps, sigma=np.sqrt(2.0*eps), device=device)\n",
    "AR_irr, ess_irr, time_irr = eval_kernel(kernel_irr, init_state_irr, dim, \n",
    "                                        T=T, batch_size=batch_size, burn_in=T//20)"
   ]
  },
  {
   "cell_type": "code",
   "execution_count": 12,
   "metadata": {},
   "outputs": [
    {
     "name": "stdout",
     "output_type": "stream",
     "text": [
      "AR: 0.36826077\n",
      "time: 175.35398077964783\n",
      "mean ess: 0.08148800813348814\n",
      "std ess: 0.012048615861217922\n",
      "mean ess/s: 0.0004647057783985359\n",
      "std ess/s: 6.871025001912203e-05\n"
     ]
    }
   ],
   "source": [
    "batch_size=100\n",
    "T = 20000\n",
    "x = (torch.zeros([batch_size,dim])).to(device)\n",
    "d = torch.ones([batch_size,1]).to(device)\n",
    "init_state_rw = {'x': x, 'd': d}\n",
    "eps=0.017\n",
    "kernel_rw = kernels.rwMALA(target, dim, step_size=eps, sigma=np.sqrt(2.0*eps), device=device)\n",
    "AR_rw, ess_rw, time_rw = eval_kernel(kernel_rw, init_state_rw, dim, \n",
    "                                     T=T, batch_size=batch_size, burn_in=T//20)"
   ]
  },
  {
   "cell_type": "markdown",
   "metadata": {},
   "source": [
    "## Australian"
   ]
  },
  {
   "cell_type": "code",
   "execution_count": 6,
   "metadata": {},
   "outputs": [],
   "source": [
    "device = torch.device('cuda')\n",
    "target = distributions.Australian(device)\n",
    "dim = target.mean().shape[0]"
   ]
  },
  {
   "cell_type": "code",
   "execution_count": 27,
   "metadata": {
    "scrolled": false
   },
   "outputs": [
    {
     "name": "stdout",
     "output_type": "stream",
     "text": [
      "AR: 0.2755123\n",
      "time: 226.49076437950134\n",
      "mean ess: 0.006410871045491162\n",
      "std ess: 0.0013060487761642281\n",
      "mean ess/s: 2.830522058175093e-05\n",
      "std ess/s: 5.766454891625739e-06\n"
     ]
    }
   ],
   "source": [
    "batch_size=100\n",
    "T = 20000\n",
    "x = (torch.zeros([batch_size,dim])).to(device)\n",
    "d = torch.ones([batch_size,1]).to(device)\n",
    "init_state_irr = {'x': x, 'd': d}\n",
    "eps = 0.002\n",
    "kernel_irr = kernels.irrMALA(target, dim, step_size=eps, sigma=np.sqrt(2.0*eps), device=device)\n",
    "AR_irr, ess_irr, time_irr = eval_kernel(kernel_irr, init_state_irr, dim, \n",
    "                                        T=T, batch_size=batch_size, burn_in=T//20)"
   ]
  },
  {
   "cell_type": "code",
   "execution_count": 8,
   "metadata": {},
   "outputs": [
    {
     "name": "stdout",
     "output_type": "stream",
     "text": [
      "AR: 0.49830386\n",
      "time: 186.16454339027405\n",
      "mean ess: 0.04257893329990809\n",
      "std ess: 0.009961171865058792\n",
      "mean ess/s: 0.00022871666389579843\n",
      "std ess/s: 5.3507352601382636e-05\n"
     ]
    }
   ],
   "source": [
    "batch_size=100\n",
    "T = 20000\n",
    "x = (torch.zeros([batch_size,dim])).to(device)\n",
    "d = torch.ones([batch_size,1]).to(device)\n",
    "init_state_rw = {'x': x, 'd': d}\n",
    "eps=0.0075\n",
    "kernel_rw = kernels.rwMALA(target, dim, step_size=eps, sigma=np.sqrt(2.0*eps), device=device)\n",
    "AR_rw, ess_rw, time_rw = eval_kernel(kernel_rw, init_state_rw, dim, \n",
    "                                     T=T, batch_size=batch_size, burn_in=T//20)"
   ]
  },
  {
   "cell_type": "markdown",
   "metadata": {},
   "source": [
    "## German"
   ]
  },
  {
   "cell_type": "code",
   "execution_count": 4,
   "metadata": {},
   "outputs": [],
   "source": [
    "device = torch.device('cuda')\n",
    "target = distributions.German(device)\n",
    "dim = target.mean().shape[0]"
   ]
  },
  {
   "cell_type": "code",
   "execution_count": 36,
   "metadata": {
    "scrolled": false
   },
   "outputs": [
    {
     "name": "stdout",
     "output_type": "stream",
     "text": [
      "AR: 0.21619353\n",
      "time: 255.85654711723328\n",
      "mean ess: 0.003996691934207145\n",
      "std ess: 0.0005570143224095623\n",
      "mean ess/s: 1.5620831201070903e-05\n",
      "std ess/s: 2.1770571387971504e-06\n"
     ]
    }
   ],
   "source": [
    "batch_size=100\n",
    "T = 20000\n",
    "x = (torch.zeros([batch_size,dim])).to(device)\n",
    "d = torch.ones([batch_size,1]).to(device)\n",
    "init_state_irr = {'x': x, 'd': d}\n",
    "eps = 0.0007\n",
    "kernel_irr = kernels.irrMALA(target, dim, step_size=eps, sigma=np.sqrt(2.0*eps), device=device)\n",
    "AR_irr, ess_irr, time_irr = eval_kernel(kernel_irr, init_state_irr, dim, \n",
    "                                        T=T, batch_size=batch_size, burn_in=T//20)"
   ]
  },
  {
   "cell_type": "code",
   "execution_count": 39,
   "metadata": {},
   "outputs": [
    {
     "name": "stdout",
     "output_type": "stream",
     "text": [
      "AR: 0.4022522\n",
      "time: 172.59669399261475\n",
      "mean ess: 0.025507646781855634\n",
      "std ess: 0.005416520726826999\n",
      "mean ess/s: 0.0001477875745577553\n",
      "std ess/s: 3.1382528839508174e-05\n"
     ]
    }
   ],
   "source": [
    "batch_size=100\n",
    "T = 20000\n",
    "x = (torch.zeros([batch_size,dim])).to(device)\n",
    "d = torch.ones([batch_size,1]).to(device)\n",
    "init_state_rw = {'x': x, 'd': d}\n",
    "eps=0.003\n",
    "kernel_rw = kernels.rwMALA(target, dim, step_size=eps, sigma=np.sqrt(2.0*eps), device=device)\n",
    "AR_rw, ess_rw, time_rw = eval_kernel(kernel_rw, init_state_rw, dim, \n",
    "                                     T=T, batch_size=batch_size, burn_in=T//20)"
   ]
  },
  {
   "cell_type": "code",
   "execution_count": null,
   "metadata": {},
   "outputs": [],
   "source": []
  }
 ],
 "metadata": {
  "kernelspec": {
   "display_name": "Python 3",
   "language": "python",
   "name": "python3"
  },
  "language_info": {
   "codemirror_mode": {
    "name": "ipython",
    "version": 3
   },
   "file_extension": ".py",
   "mimetype": "text/x-python",
   "name": "python",
   "nbconvert_exporter": "python",
   "pygments_lexer": "ipython3",
   "version": "3.7.1"
  }
 },
 "nbformat": 4,
 "nbformat_minor": 2
}
